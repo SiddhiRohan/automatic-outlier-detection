#Importing necessary libraries
import pandas as pd
from outlier_detection import AutomaticOutlierDetection

#Load the Boston Housing dataset
data = load_dataset()

#Create an instance of AutomaticOutlierDetection
outlier_detection = AutomaticOutlierDetection()

#Fit the model and perform automatic outlier outlier_detection
adjusted_model = outlier_detection.fit_and_detect_outliers(data, target_column="target")

#Visualize the results
outlier_detection.plot_results(data, target_column="target")
